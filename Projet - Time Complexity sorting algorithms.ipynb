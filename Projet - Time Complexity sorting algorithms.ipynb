{
 "cells": [
  {
   "cell_type": "code",
   "execution_count": 1,
   "id": "4f75c716",
   "metadata": {},
   "outputs": [],
   "source": [
    "import random\n",
    "import time\n",
    "import matplotlib.pyplot as plt\n",
    "import copy\n",
    "import sys"
   ]
  },
  {
   "cell_type": "code",
   "execution_count": 2,
   "id": "3d23ed99",
   "metadata": {},
   "outputs": [],
   "source": [
    "sys.setrecursionlimit(10000)"
   ]
  },
  {
   "cell_type": "markdown",
   "id": "c977fb26",
   "metadata": {},
   "source": [
    "# Fonctions Utiles\n",
    "\n",
    "Les deux fonctions données plus bas sont utiles pour tester si un tableau ou un ensemble de tableaux sont bien\n",
    "triés par ordre ascendant."
   ]
  },
  {
   "cell_type": "code",
   "execution_count": 3,
   "id": "77dfda58",
   "metadata": {},
   "outputs": [],
   "source": [
    "def isSorted(l):\n",
    "    for i in range(len(l) - 1):\n",
    "        if l[i] > l[i + 1]: return False\n",
    "    return True\n",
    "\n",
    "def areSorted(ll):\n",
    "    for i in range(len(ll)):\n",
    "        if not isSorted(ll[i]): return (False, i)\n",
    "    return (True, 0)"
   ]
  },
  {
   "cell_type": "markdown",
   "id": "8454d2ea",
   "metadata": {},
   "source": [
    "# Création des tableaux\n",
    "\n",
    "La fonction __create\\_data__ permet de créer des listes qui contiennent les tableaux à trier avec des tailles\n",
    "croissantes. Les paramètres par défaut sont 15 tableaux, et des tailles de tableaux qui augmentent  par incrément de 200. Par défaut, le plus petit tableau aura 200 éléments, le plus grand aura 3000 éléments."
   ]
  },
  {
   "cell_type": "code",
   "execution_count": 4,
   "id": "7c098169",
   "metadata": {},
   "outputs": [],
   "source": [
    "def create_data(nlist=15, nval=200):\n",
    "    \n",
    "    # Création de listes de taille incrémentale et de contenu aléatoire\n",
    "    listDataRandom = []\n",
    "    listDataSorted = []\n",
    "    listDataInversedSorted = []\n",
    "    sizeArrays = []\n",
    "    \n",
    "    # Remplissage des listes\n",
    "    for i in range(1, nlist + 1):\n",
    "        s = nval * i \n",
    "        dataRandom = s*[0]\n",
    "        dataSorted = s*[0]\n",
    "        dataInversed = s*[0]\n",
    "        for j in range(s):\n",
    "            dataRandom[j]=j\n",
    "            dataSorted[j]=j\n",
    "            dataInversed[j]=j\n",
    "            \n",
    "        dataInversed.reverse()\n",
    "        random.shuffle(dataRandom)\n",
    "        \n",
    "        listDataRandom.append(dataRandom)\n",
    "        listDataSorted.append(dataSorted)\n",
    "        listDataInversedSorted.append(dataInversed)\n",
    "        sizeArrays.append(s)\n",
    "\n",
    "    return(sizeArrays, listDataRandom, listDataSorted, listDataInversedSorted)\n"
   ]
  },
  {
   "cell_type": "markdown",
   "id": "4b939345",
   "metadata": {},
   "source": [
    "# Tri des tableaux\n",
    "\n",
    "La fonction **executerTri** prend en entrée :\n",
    "\n",
    "- la fonction qui va effectuer le tri **fct_tri**\n",
    "- la couleur des tracés **color**\n",
    "- le nom de l'algorithme de tri **nom**\n",
    "- le nombre de tableaux **nlist** (utilisé par **create_data**)\n",
    "- le nombre de valeurs dans le premier tableau **nval**  (utilisé par **create_data**)\n",
    "- un booléen qui indique si le tableau est trié **surplace** ou si le tableau trié est renvoyé comme résultat de la fonction de tri\n",
    "\n"
   ]
  },
  {
   "cell_type": "code",
   "execution_count": 5,
   "id": "27693112",
   "metadata": {},
   "outputs": [],
   "source": [
    "def executerTri(fct_tri, color, nom, nlist=15, nval=200, surplace = True):\n",
    "    \n",
    "    axis, listDataRandom, listDataSorted, listDataInvertedSorted = create_data(nlist, nval)\n",
    "    \n",
    "    toplotRandom = []\n",
    "    toplotSorted = []\n",
    "    toplotInverted = []\n",
    "    \n",
    "    dataTestRandom    = copy.deepcopy(listDataRandom)\n",
    "    dataTestSorted    = copy.deepcopy(listDataSorted)\n",
    "    dataTestInverted  = copy.deepcopy(listDataInvertedSorted)\n",
    "    \n",
    "    for i in range(len(axis)):\n",
    "        time1 = time.time()\n",
    "        if surplace:\n",
    "            fct_tri(dataTestRandom[i])\n",
    "        else:\n",
    "            dataTestRandom[i] = fct_tri(dataTestRandom[i])\n",
    "        time2 = time.time()\n",
    "        toplotRandom.append(time2 - time1)\n",
    "        time3 = time.time()\n",
    "        if surplace:\n",
    "            fct_tri(dataTestSorted[i])\n",
    "        else:\n",
    "            dataTestSorted[i] = fct_tri(dataTestSorted[i])\n",
    "        time4 = time.time()\n",
    "        toplotSorted.append(time4 - time3)\n",
    "        time5 = time.time()\n",
    "        if surplace:\n",
    "            fct_tri(dataTestInverted[i])\n",
    "        else:\n",
    "            dataTestInverted[i] = fct_tri(dataTestInverted[i])\n",
    "        time6 = time.time()\n",
    "        toplotInverted.append(time6 - time5)\n",
    "\n",
    "    (ok1, ipb1) = areSorted(dataTestRandom)\n",
    "    (ok2, ipb2) = areSorted(dataTestSorted)\n",
    "    (ok3, ipb3) = areSorted(dataTestInverted)\n",
    "    \n",
    "    if not ok1:\n",
    "        print(nom + ' data random incorrect, liste #' + str(ipb1))\n",
    "    else:\n",
    "        plt.plot(axis, toplotRandom, '-' + color, label=nom + ' (random)')\n",
    "    if not ok2:\n",
    "        print(nom + ' data Sorted incorrect, liste #' + str(ipb2))\n",
    "    else:\n",
    "        plt.plot(axis, toplotSorted, '--' + color, label=nom + ' (Sorted)')\n",
    "\n",
    "    if not ok3:\n",
    "        print(nom + ' data Inverted incorrect, liste #' + str(ipb3))\n",
    "    else:\n",
    "        plt.plot(axis, toplotInverted, ':' + color, label=nom + ' (Inverted)')\n",
    "        plt.legend()\n"
   ]
  },
  {
   "cell_type": "markdown",
   "id": "cc7e7e08",
   "metadata": {},
   "source": [
    "# Algorithme de tri\n",
    "\n",
    "l'algorithme **bubble_sort** est donné en exemple"
   ]
  },
  {
   "cell_type": "code",
   "execution_count": 6,
   "id": "d481e512",
   "metadata": {},
   "outputs": [],
   "source": [
    "def bubble_sort(A):\n",
    "    n = len(A)\n",
    "    flag = 1\n",
    "    for i in range(n-1):\n",
    "        flag = 0\n",
    "        for j in range(n-1-i):\n",
    "            if A[j]>A[j+1]:            \n",
    "                t = A[j]\n",
    "                A[j]=A[j+1]\n",
    "                A[j+1] = t\n",
    "                flag = 1\n",
    "        if flag == 0:\n",
    "            break\n",
    "    return A"
   ]
  },
  {
   "cell_type": "markdown",
   "id": "a58ba16e",
   "metadata": {},
   "source": [
    "# Complexité empirique\n",
    "\n",
    "le résultat de **executer_tri** avec l'algorithme **bubble_sort** est donné en exemple"
   ]
  },
  {
   "cell_type": "code",
   "execution_count": 7,
   "id": "5cad9110",
   "metadata": {},
   "outputs": [
    {
     "data": {
      "image/png": "[encoded data removed]",
      "text/plain": [
       "<Figure size 640x480 with 1 Axes>"
      ]
     },
     "metadata": {},
     "output_type": "display_data"
    }
   ],
   "source": [
    "executerTri(bubble_sort,'r','Bubble sort')"
   ]
  },
  {
   "cell_type": "code",
   "execution_count": null,
   "id": "e283359f",
   "metadata": {},
   "outputs": [],
   "source": []
  }
 ],
 "metadata": {
  "kernelspec": {
   "display_name": "Python 3 (ipykernel)",
   "language": "python",
   "name": "python3"
  },
  "language_info": {
   "codemirror_mode": {
    "name": "ipython",
    "version": 3
   },
   "file_extension": ".py",
   "mimetype": "text/x-python",
   "name": "python",
   "nbconvert_exporter": "python",
   "pygments_lexer": "ipython3",
   "version": "3.10.8"
  }
 },
 "nbformat": 4,
 "nbformat_minor": 5
}
