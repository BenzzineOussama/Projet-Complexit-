{
 "cells": [
  {
   "cell_type": "markdown",
   "metadata": {},
   "source": [
    "# **Théorie de la Complexité des Algorithmes**\n",
    "\n",
    "## **Introduction**\n",
    "La complexité d'un algorithme est une mesure de l'efficacité de celui-ci en termes de **temps d'exécution** ou d'**espace mémoire** requis, en fonction de la taille de l'entrée. Cette évaluation permet de comparer différents algorithmes pour résoudre un même problème.\n",
    "\n",
    "---\n",
    "\n",
    "## **Types de Complexités**\n",
    "- **Complexité temporelle** (*Time Complexity*) : Mesure le nombre d’opérations élémentaires exécutées en fonction de la taille de l’entrée.\n",
    "- **Complexité spatiale** (*Space Complexity*) : Mesure la quantité de mémoire supplémentaire utilisée par l’algorithme.\n",
    "\n",
    "---\n",
    "\n",
    "## **Notations Asymptotiques**\n",
    "Les notations asymptotiques décrivent la croissance de la complexité pour de grandes tailles d'entrée ($n \\rightarrow \\infty$).\n",
    "\n",
    "- **O (notation Big-O)** : Représente une borne supérieure. Exemple : $O(n^2)$ signifie que l'algorithme peut être aussi lent que $n^2$ opérations dans le pire cas.\n",
    "- **Ω (Omega)** : Représente une borne inférieure. Exemple : $Ω(n)$ signifie qu'au minimum $n$ opérations seront nécessaires.\n",
    "- **Θ (Theta)** : Représente une borne exacte. Exemple : $Θ(n^2)$ indique que $n^2$ opérations sont effectuées dans le pire et le meilleur cas.\n",
    "\n",
    "---\n",
    "\n",
    "## **Cas de Complexité**\n",
    "Les algorithmes sont analysés selon trois cas :\n",
    "- **Meilleur cas** (*Best Case*) : La performance optimale, souvent rare. Exemple : tableau déjà trié pour **Insertion Sort**.\n",
    "- **Pire cas** (*Worst Case*) : Le scénario le plus défavorable. Exemple : tableau trié en ordre décroissant pour **Bubble Sort**.\n",
    "- **Cas moyen** (*Average Case*) : Un cas typique basé sur une entrée aléatoire.\n",
    "\n",
    "---\n",
    "\n",
    "## **Complexité des Algorithmes de Tri**\n",
    "Voici un résumé théorique des complexités des algorithmes de tri étudiés dans le projet :\n",
    "\n",
    "| Algorithme          | Meilleur Cas   | Pire Cas        | Cas Moyen       | Complexité spatiale |\n",
    "|---------------------|----------------|-----------------|-----------------|-------------------------|\n",
    "| **Bubble Sort**     | $O(n)$         | $O(n^2)$        | $O(n^2)$        | $O(1)$                 |\n",
    "| **Selection Sort**  | $O(n^2)$       | $O(n^2)$        | $O(n^2)$        | $O(1)$                 |\n",
    "| **Insertion Sort**  | $O(n)$         | $O(n^2)$        | $O(n^2)$        | $O(1)$                 |\n",
    "| **Heap Sort**       | $O(n\\log n)$   | $O(n\\log n)$    | $O(n\\log n)$    | $O(1)$                 |\n",
    "| **Quick Sort**      | $O(n\\log n)$   | $O(n^2)$        | $O(n\\log n)$    | $O(\\log n)$            |\n",
    "| **Merge Sort**      | $O(n\\log n)$   | $O(n\\log n)$    | $O(n\\log n)$    | $O(n)$                 |\n",
    "\n",
    "---\n",
    "\n",
    "## **Importance de l'Évaluation Empirique**\n",
    "- Les complexités théoriques ne prennent pas en compte les optimisations pratiques, comme les caches ou les architectures matérielles.\n",
    "- Les tests empiriques complètent les analyses théoriques en illustrant les performances sur des cas concrets.\n",
    "\n",
    "---\n",
    "\n",
    "## **Applications Pratiques**\n",
    "- Choisir l'algorithme adapté au contexte (ex : Quick Sort est rapide pour des petits tableaux, Merge Sort est stable et efficace pour des grandes données avec des besoins de stabilité).\n",
    "\n",
    "---"
   ]
  },
  {
   "cell_type": "markdown",
   "metadata": {},
   "source": [
    "# **Étude de la complexité :**\n",
    "\n",
    "---"
   ]
  },
  {
   "cell_type": "markdown",
   "metadata": {},
   "source": [
    "## **Bubble Sort**\n",
    "\n",
    "### **Description de l'algorithme**\n",
    "\n",
    "Le Bubble Sort compare les éléments adjacents d'un tableau et les échange si nécessaire, jusqu'à ce que le tableau soit trié. Le processus est répété pour tous les éléments non triés.\n",
    "\n",
    "---\n",
    "\n",
    "### **Analyse théorique**\n",
    "\n",
    "#### **Pire cas (\\($O(n^2)$\\))** :\n",
    "- Lorsqu'un tableau est trié dans l'ordre inverse.\n",
    "- Chaque élément doit être comparé avec tous les autres, ce qui donne un nombre total de comparaisons de :\n",
    "  $$\n",
    "  (n-1) + (n-2) + \\dots + 1 = \\frac{n(n-1)}{2}\n",
    "  $$\n",
    "  soit \\($O(n^2)$\\).\n",
    "\n",
    "#### **Meilleur cas (\\($O(n)$\\))** :\n",
    "- Lorsque le tableau est déjà trié.\n",
    "- Une seule passe est nécessaire pour vérifier que tous les éléments sont à leur place.\n",
    "\n",
    "#### **Complexité spatiale** :\n",
    "- **En place** : Utilise \\($O(1)$\\) mémoire supplémentaire.\n",
    "- **Stable** : Oui, car les éléments égaux conservent leur ordre initial.\n"
   ]
  },
  {
   "cell_type": "markdown",
   "metadata": {},
   "source": [
    "### **Code Python : Implémentation de Bubble Sort**"
   ]
  },
  {
   "cell_type": "code",
   "execution_count": 1,
   "metadata": {},
   "outputs": [],
   "source": [
    "def bubble_sort(arr):\n",
    "    n = len(arr)\n",
    "    for i in range(n):\n",
    "        swapped = False\n",
    "        for j in range(0, n - i - 1):\n",
    "            if arr[j] > arr[j + 1]:\n",
    "                arr[j], arr[j + 1] = arr[j + 1], arr[j]  # Échange\n",
    "                swapped = True\n",
    "        # Si aucun échange n'a eu lieu, le tableau est trié\n",
    "        if not swapped:\n",
    "            break\n",
    "    return arr"
   ]
  },
  {
   "cell_type": "markdown",
   "metadata": {},
   "source": [
    "### **Validation empirique**\n",
    "\n",
    "Nous allons vérifier les temps d'exécution du Bubble Sort sur des tableaux :\n",
    "\n",
    "1. **Déjà triés**.\n",
    "2. **Triés dans l'ordre décroissant**.\n",
    "3. **Avec des valeurs aléatoires**.\n"
   ]
  },
  {
   "cell_type": "code",
   "execution_count": null,
   "metadata": {},
   "outputs": [],
   "source": []
  }
 ],
 "metadata": {
  "kernelspec": {
   "display_name": "Python 3",
   "language": "python",
   "name": "python3"
  },
  "language_info": {
   "codemirror_mode": {
    "name": "ipython",
    "version": 3
   },
   "file_extension": ".py",
   "mimetype": "text/x-python",
   "name": "python",
   "nbconvert_exporter": "python",
   "pygments_lexer": "ipython3",
   "version": "3.10.8"
  }
 },
 "nbformat": 4,
 "nbformat_minor": 2
}
